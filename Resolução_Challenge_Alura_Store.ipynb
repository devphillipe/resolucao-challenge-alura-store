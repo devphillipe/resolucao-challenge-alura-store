{
  "nbformat": 4,
  "nbformat_minor": 0,
  "metadata": {
    "colab": {
      "provenance": [],
      "include_colab_link": true
    },
    "kernelspec": {
      "name": "python3",
      "display_name": "Python 3"
    },
    "language_info": {
      "name": "python"
    }
  },
  "cells": [
    {
      "cell_type": "markdown",
      "metadata": {
        "id": "view-in-github",
        "colab_type": "text"
      },
      "source": [
        "<a href=\"https://colab.research.google.com/github/devphillipe/resolucao-challenge-alura-store/blob/main/Resolu%C3%A7%C3%A3o_Challenge_Alura_Store.ipynb\" target=\"_parent\"><img src=\"https://colab.research.google.com/assets/colab-badge.svg\" alt=\"Open In Colab\"/></a>"
      ]
    },
    {
      "cell_type": "markdown",
      "source": [
        "### Importação dos dados\n",
        "\n"
      ],
      "metadata": {
        "id": "RhEdWd9YUR6H"
      }
    },
    {
      "cell_type": "code",
      "execution_count": 21,
      "metadata": {
        "id": "T3EvaeQ_INIL"
      },
      "outputs": [],
      "source": [
        "import pandas as pd\n",
        "\n",
        "# Carregar dados das 4 lojas\n",
        "urls = [\n",
        "    \"https://raw.githubusercontent.com/alura-es-cursos/challenge1-data-science/refs/heads/main/base-de-dados-challenge-1/loja_1.csv\",\n",
        "    \"https://raw.githubusercontent.com/alura-es-cursos/challenge1-data-science/refs/heads/main/base-de-dados-challenge-1/loja_2.csv\",\n",
        "    \"https://raw.githubusercontent.com/alura-es-cursos/challenge1-data-science/refs/heads/main/base-de-dados-challenge-1/loja_3.csv\",\n",
        "    \"https://raw.githubusercontent.com/alura-es-cursos/challenge1-data-science/refs/heads/main/base-de-dados-challenge-1/loja_4.csv\"\n",
        "]\n",
        "\n",
        "dfs = [pd.read_csv(url) for url in urls]\n",
        "df = pd.concat(dfs, ignore_index=True)"
      ]
    },
    {
      "cell_type": "markdown",
      "source": [
        "#1. Análise do faturamento\n"
      ],
      "metadata": {
        "id": "X62IW3KFUIYm"
      }
    },
    {
      "cell_type": "code",
      "source": [
        "# Calcular faturamento\n",
        "df['Faturamento'] = df['Preço']\n",
        "df['Quantidade'] = 1  # Cada linha é 1 produto vendido\n",
        "\n",
        "# 1. Faturamento total\n",
        "total_faturamento = df['Faturamento'].sum()\n",
        "print(f\"\\n🧾 Faturamento Total: R$ {total_faturamento:,.2f}\".replace(\",\", \"X\").replace(\".\", \",\").replace(\"X\", \".\"))\n"
      ],
      "metadata": {
        "id": "KDyr8E71V3m-",
        "colab": {
          "base_uri": "https://localhost:8080/"
        },
        "outputId": "ba3fffd8-890c-4ef4-ec4e-9da9e0b24bfe"
      },
      "execution_count": 22,
      "outputs": [
        {
          "output_type": "stream",
          "name": "stdout",
          "text": [
            "\n",
            "🧾 Faturamento Total: R$ 5.871.490,79\n"
          ]
        }
      ]
    },
    {
      "cell_type": "markdown",
      "source": [
        "# 2. Vendas por Categoria\n"
      ],
      "metadata": {
        "id": "2V_vcAPzWZmR"
      }
    },
    {
      "cell_type": "code",
      "source": [
        "# 2. Vendas por categoria\n",
        "vendas_categoria = df.groupby('Categoria do Produto')['Faturamento'].sum().sort_values(ascending=False)\n",
        "print(\"\\n📦 Vendas por Categoria:\")\n",
        "for categoria, valor in vendas_categoria.items():\n",
        "    print(f\"{categoria}: R$ {valor:,.2f}\".replace(\",\", \"X\").replace(\".\", \",\").replace(\"X\", \".\"))\n"
      ],
      "metadata": {
        "id": "A34YupIuYhfF",
        "colab": {
          "base_uri": "https://localhost:8080/"
        },
        "outputId": "9a932480-f2b6-4b61-cfa5-52a6f85d4a22"
      },
      "execution_count": 23,
      "outputs": [
        {
          "output_type": "stream",
          "name": "stdout",
          "text": [
            "\n",
            "📦 Vendas por Categoria:\n",
            "eletronicos: R$ 2.214.099,72\n",
            "eletrodomesticos: R$ 1.766.337,03\n",
            "moveis: R$ 1.010.214,00\n",
            "instrumentos musicais: R$ 465.029,67\n",
            "esporte e lazer: R$ 190.635,39\n",
            "brinquedos: R$ 98.140,86\n",
            "utilidades domesticas: R$ 76.773,38\n",
            "livros: R$ 50.260,74\n"
          ]
        }
      ]
    },
    {
      "cell_type": "markdown",
      "source": [
        "# 3. Média de Avaliação das Lojas"
      ],
      "metadata": {
        "id": "Rq6tU_xSY3jk"
      }
    },
    {
      "cell_type": "code",
      "source": [
        "# 3. Média de Avaliação das Lojas\n",
        "media_avaliacoes = df.groupby('Local da compra')['Avaliação da compra'].mean().sort_values(ascending=False)\n",
        "print(\"\\n⭐ Média de Avaliação por Loja:\")\n",
        "print(media_avaliacoes.round(2))"
      ],
      "metadata": {
        "id": "bh3jjjJwY5MU",
        "colab": {
          "base_uri": "https://localhost:8080/"
        },
        "outputId": "0de65654-3a95-4d3c-b18d-4e33d91864ce"
      },
      "execution_count": 24,
      "outputs": [
        {
          "output_type": "stream",
          "name": "stdout",
          "text": [
            "\n",
            "⭐ Média de Avaliação por Loja:\n",
            "Local da compra\n",
            "RN    4.21\n",
            "SP    4.11\n",
            "MT    4.11\n",
            "MS    4.10\n",
            "MG    4.09\n",
            "PB    4.09\n",
            "PR    4.08\n",
            "AM    4.07\n",
            "DF    4.02\n",
            "RS    4.02\n",
            "ES    4.02\n",
            "SC    4.01\n",
            "PE    3.98\n",
            "GO    3.94\n",
            "RO    3.89\n",
            "TO    3.83\n",
            "BA    3.80\n",
            "PI    3.80\n",
            "AP    3.78\n",
            "RJ    3.78\n",
            "PA    3.69\n",
            "MA    3.68\n",
            "AC    3.67\n",
            "AL    3.63\n",
            "CE    3.60\n",
            "SE    3.46\n",
            "RR    3.00\n",
            "Name: Avaliação da compra, dtype: float64\n"
          ]
        }
      ]
    },
    {
      "cell_type": "markdown",
      "source": [
        "# 4. Produtos Mais e Menos Vendidos"
      ],
      "metadata": {
        "id": "DmNp1KPBZCm-"
      }
    },
    {
      "cell_type": "code",
      "source": [
        "# 4. Produtos mais vendidos\n",
        "mais_vendidos = df.groupby('Produto')['Quantidade'].sum().sort_values(ascending=False).head(10)\n",
        "print(\"\\n🔥 Top 10 Produtos Mais Vendidos:\")\n",
        "print(mais_vendidos)"
      ],
      "metadata": {
        "id": "qoyjqijQZHfF",
        "colab": {
          "base_uri": "https://localhost:8080/"
        },
        "outputId": "654db21f-05c2-4ac3-f38f-9bb1e0f03126"
      },
      "execution_count": 25,
      "outputs": [
        {
          "output_type": "stream",
          "name": "stdout",
          "text": [
            "\n",
            "🔥 Top 10 Produtos Mais Vendidos:\n",
            "Produto\n",
            "Cômoda                      210\n",
            "Carrinho controle remoto    206\n",
            "Micro-ondas                 206\n",
            "Bateria                     203\n",
            "Cama king                   201\n",
            "Jogo de panelas             200\n",
            "Modelagem preditiva         200\n",
            "Secadora de roupas          200\n",
            "Blocos de montar            199\n",
            "Cama box                    199\n",
            "Name: Quantidade, dtype: int64\n"
          ]
        }
      ]
    },
    {
      "cell_type": "code",
      "source": [
        "menos_vendidos = df.groupby('Produto')['Quantidade'].sum().sort_values().head(10)\n",
        "print(\"\\n❄️ Top 10 Produtos Menos Vendidos:\")\n",
        "print(menos_vendidos)"
      ],
      "metadata": {
        "id": "0Sw3sd4IZIGW",
        "colab": {
          "base_uri": "https://localhost:8080/"
        },
        "outputId": "d7074041-0385-48d1-affd-ff3e436af578"
      },
      "execution_count": 26,
      "outputs": [
        {
          "output_type": "stream",
          "name": "stdout",
          "text": [
            "\n",
            "❄️ Top 10 Produtos Menos Vendidos:\n",
            "Produto\n",
            "Celular ABXY                   157\n",
            "Headset                        158\n",
            "Mochila                        163\n",
            "Guitarra                       165\n",
            "Ciência de dados com python    166\n",
            "Assistente virtual             167\n",
            "Poltrona                       168\n",
            "Jogo de copos                  169\n",
            "Smartwatch                     172\n",
            "Panela de pressão              172\n",
            "Name: Quantidade, dtype: int64\n"
          ]
        }
      ]
    },
    {
      "cell_type": "markdown",
      "source": [
        "# 5. Frete Médio por Loja\n"
      ],
      "metadata": {
        "id": "Fl0cGi3bZKqU"
      }
    },
    {
      "cell_type": "code",
      "source": [
        "# 5. Frete médio por loja\n",
        "frete_medio = df.groupby('Local da compra')['Frete'].mean().sort_values(ascending=False)\n",
        "print(\"\\n🚚 Frete Médio por Loja:\")\n",
        "for loja, frete in frete_medio.items():\n",
        "    print(f\"{loja}: R$ {frete:,.2f}\".replace(\",\", \"X\").replace(\".\", \",\").replace(\"X\", \".\"))"
      ],
      "metadata": {
        "id": "S2JeaCykZNy9",
        "colab": {
          "base_uri": "https://localhost:8080/"
        },
        "outputId": "453ca37d-f6cd-41c0-ef5e-a43bdc163d9f"
      },
      "execution_count": 27,
      "outputs": [
        {
          "output_type": "stream",
          "name": "stdout",
          "text": [
            "\n",
            "🚚 Frete Médio por Loja:\n",
            "RR: R$ 113,67\n",
            "AC: R$ 49,36\n",
            "RO: R$ 46,35\n",
            "RN: R$ 40,09\n",
            "GO: R$ 38,13\n",
            "PI: R$ 36,95\n",
            "RS: R$ 36,58\n",
            "PE: R$ 35,72\n",
            "MA: R$ 35,13\n",
            "PR: R$ 34,57\n",
            "RJ: R$ 33,94\n",
            "PB: R$ 33,91\n",
            "MS: R$ 33,69\n",
            "TO: R$ 33,46\n",
            "MG: R$ 33,46\n",
            "AL: R$ 33,26\n",
            "ES: R$ 33,20\n",
            "SP: R$ 32,71\n",
            "MT: R$ 32,69\n",
            "PA: R$ 30,63\n",
            "SE: R$ 30,49\n",
            "BA: R$ 30,26\n",
            "DF: R$ 30,19\n",
            "SC: R$ 29,84\n",
            "AM: R$ 29,37\n",
            "CE: R$ 25,00\n",
            "AP: R$ 21,65\n"
          ]
        }
      ]
    }
  ]
}